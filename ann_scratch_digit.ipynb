{
 "cells": [
  {
   "cell_type": "code",
   "execution_count": 2,
   "metadata": {},
   "outputs": [],
   "source": [
    "import pandas as pd\n",
    "import numpy as np\n",
    "import matplotlib.pyplot as plt"
   ]
  },
  {
   "cell_type": "markdown",
   "metadata": {},
   "source": [
    "download dataset from this link : https://www.kaggle.com/code/ngbolin/mnist-dataset-digit-recognizer/data"
   ]
  },
  {
   "cell_type": "code",
   "execution_count": 72,
   "metadata": {},
   "outputs": [],
   "source": [
    "train = pd.read_csv('train.csv')\n",
    "test = pd.read_csv('test.csv')"
   ]
  },
  {
   "cell_type": "code",
   "execution_count": 73,
   "metadata": {},
   "outputs": [
    {
     "data": {
      "text/plain": [
       "1    4684\n",
       "7    4401\n",
       "3    4351\n",
       "9    4188\n",
       "2    4177\n",
       "6    4137\n",
       "0    4132\n",
       "4    4072\n",
       "8    4063\n",
       "5    3795\n",
       "Name: label, dtype: int64"
      ]
     },
     "execution_count": 73,
     "metadata": {},
     "output_type": "execute_result"
    }
   ],
   "source": [
    "train['label'].value_counts()"
   ]
  },
  {
   "cell_type": "code",
   "execution_count": 74,
   "metadata": {},
   "outputs": [
    {
     "data": {
      "text/html": [
       "<div>\n",
       "<style scoped>\n",
       "    .dataframe tbody tr th:only-of-type {\n",
       "        vertical-align: middle;\n",
       "    }\n",
       "\n",
       "    .dataframe tbody tr th {\n",
       "        vertical-align: top;\n",
       "    }\n",
       "\n",
       "    .dataframe thead th {\n",
       "        text-align: right;\n",
       "    }\n",
       "</style>\n",
       "<table border=\"1\" class=\"dataframe\">\n",
       "  <thead>\n",
       "    <tr style=\"text-align: right;\">\n",
       "      <th></th>\n",
       "      <th>label</th>\n",
       "      <th>pixel0</th>\n",
       "      <th>pixel1</th>\n",
       "      <th>pixel2</th>\n",
       "      <th>pixel3</th>\n",
       "      <th>pixel4</th>\n",
       "      <th>pixel5</th>\n",
       "      <th>pixel6</th>\n",
       "      <th>pixel7</th>\n",
       "      <th>pixel8</th>\n",
       "      <th>...</th>\n",
       "      <th>pixel774</th>\n",
       "      <th>pixel775</th>\n",
       "      <th>pixel776</th>\n",
       "      <th>pixel777</th>\n",
       "      <th>pixel778</th>\n",
       "      <th>pixel779</th>\n",
       "      <th>pixel780</th>\n",
       "      <th>pixel781</th>\n",
       "      <th>pixel782</th>\n",
       "      <th>pixel783</th>\n",
       "    </tr>\n",
       "  </thead>\n",
       "  <tbody>\n",
       "    <tr>\n",
       "      <th>0</th>\n",
       "      <td>1</td>\n",
       "      <td>0</td>\n",
       "      <td>0</td>\n",
       "      <td>0</td>\n",
       "      <td>0</td>\n",
       "      <td>0</td>\n",
       "      <td>0</td>\n",
       "      <td>0</td>\n",
       "      <td>0</td>\n",
       "      <td>0</td>\n",
       "      <td>...</td>\n",
       "      <td>0</td>\n",
       "      <td>0</td>\n",
       "      <td>0</td>\n",
       "      <td>0</td>\n",
       "      <td>0</td>\n",
       "      <td>0</td>\n",
       "      <td>0</td>\n",
       "      <td>0</td>\n",
       "      <td>0</td>\n",
       "      <td>0</td>\n",
       "    </tr>\n",
       "    <tr>\n",
       "      <th>1</th>\n",
       "      <td>0</td>\n",
       "      <td>0</td>\n",
       "      <td>0</td>\n",
       "      <td>0</td>\n",
       "      <td>0</td>\n",
       "      <td>0</td>\n",
       "      <td>0</td>\n",
       "      <td>0</td>\n",
       "      <td>0</td>\n",
       "      <td>0</td>\n",
       "      <td>...</td>\n",
       "      <td>0</td>\n",
       "      <td>0</td>\n",
       "      <td>0</td>\n",
       "      <td>0</td>\n",
       "      <td>0</td>\n",
       "      <td>0</td>\n",
       "      <td>0</td>\n",
       "      <td>0</td>\n",
       "      <td>0</td>\n",
       "      <td>0</td>\n",
       "    </tr>\n",
       "    <tr>\n",
       "      <th>2</th>\n",
       "      <td>1</td>\n",
       "      <td>0</td>\n",
       "      <td>0</td>\n",
       "      <td>0</td>\n",
       "      <td>0</td>\n",
       "      <td>0</td>\n",
       "      <td>0</td>\n",
       "      <td>0</td>\n",
       "      <td>0</td>\n",
       "      <td>0</td>\n",
       "      <td>...</td>\n",
       "      <td>0</td>\n",
       "      <td>0</td>\n",
       "      <td>0</td>\n",
       "      <td>0</td>\n",
       "      <td>0</td>\n",
       "      <td>0</td>\n",
       "      <td>0</td>\n",
       "      <td>0</td>\n",
       "      <td>0</td>\n",
       "      <td>0</td>\n",
       "    </tr>\n",
       "    <tr>\n",
       "      <th>3</th>\n",
       "      <td>4</td>\n",
       "      <td>0</td>\n",
       "      <td>0</td>\n",
       "      <td>0</td>\n",
       "      <td>0</td>\n",
       "      <td>0</td>\n",
       "      <td>0</td>\n",
       "      <td>0</td>\n",
       "      <td>0</td>\n",
       "      <td>0</td>\n",
       "      <td>...</td>\n",
       "      <td>0</td>\n",
       "      <td>0</td>\n",
       "      <td>0</td>\n",
       "      <td>0</td>\n",
       "      <td>0</td>\n",
       "      <td>0</td>\n",
       "      <td>0</td>\n",
       "      <td>0</td>\n",
       "      <td>0</td>\n",
       "      <td>0</td>\n",
       "    </tr>\n",
       "    <tr>\n",
       "      <th>4</th>\n",
       "      <td>0</td>\n",
       "      <td>0</td>\n",
       "      <td>0</td>\n",
       "      <td>0</td>\n",
       "      <td>0</td>\n",
       "      <td>0</td>\n",
       "      <td>0</td>\n",
       "      <td>0</td>\n",
       "      <td>0</td>\n",
       "      <td>0</td>\n",
       "      <td>...</td>\n",
       "      <td>0</td>\n",
       "      <td>0</td>\n",
       "      <td>0</td>\n",
       "      <td>0</td>\n",
       "      <td>0</td>\n",
       "      <td>0</td>\n",
       "      <td>0</td>\n",
       "      <td>0</td>\n",
       "      <td>0</td>\n",
       "      <td>0</td>\n",
       "    </tr>\n",
       "  </tbody>\n",
       "</table>\n",
       "<p>5 rows × 785 columns</p>\n",
       "</div>"
      ],
      "text/plain": [
       "   label  pixel0  pixel1  pixel2  pixel3  pixel4  pixel5  pixel6  pixel7  \\\n",
       "0      1       0       0       0       0       0       0       0       0   \n",
       "1      0       0       0       0       0       0       0       0       0   \n",
       "2      1       0       0       0       0       0       0       0       0   \n",
       "3      4       0       0       0       0       0       0       0       0   \n",
       "4      0       0       0       0       0       0       0       0       0   \n",
       "\n",
       "   pixel8  ...  pixel774  pixel775  pixel776  pixel777  pixel778  pixel779  \\\n",
       "0       0  ...         0         0         0         0         0         0   \n",
       "1       0  ...         0         0         0         0         0         0   \n",
       "2       0  ...         0         0         0         0         0         0   \n",
       "3       0  ...         0         0         0         0         0         0   \n",
       "4       0  ...         0         0         0         0         0         0   \n",
       "\n",
       "   pixel780  pixel781  pixel782  pixel783  \n",
       "0         0         0         0         0  \n",
       "1         0         0         0         0  \n",
       "2         0         0         0         0  \n",
       "3         0         0         0         0  \n",
       "4         0         0         0         0  \n",
       "\n",
       "[5 rows x 785 columns]"
      ]
     },
     "execution_count": 74,
     "metadata": {},
     "output_type": "execute_result"
    }
   ],
   "source": [
    "train.head()"
   ]
  },
  {
   "cell_type": "code",
   "execution_count": 75,
   "metadata": {},
   "outputs": [],
   "source": [
    "def one_hot(y):\n",
    "    label_zero = [0]*10\n",
    "    label = label_zero.copy()\n",
    "    label_mat=[]\n",
    "    for i in y:\n",
    "        label[i] = 1\n",
    "        label_mat.append(label)\n",
    "        label = label_zero.copy()\n",
    "    label = np.array(label_mat)\n",
    "    return label"
   ]
  },
  {
   "cell_type": "code",
   "execution_count": 76,
   "metadata": {},
   "outputs": [],
   "source": [
    "train_shuffle = train.sample(frac=1, random_state=23).reset_index(drop=True)\n",
    "X = train_shuffle.drop(columns='label')\n",
    "y =  train_shuffle.label\n",
    "\n",
    "r, c = X.shape\n",
    "n_val = int(round(r*20/100,0))\n",
    "n_train = r - n_val\n",
    "\n",
    "X_train = np.array(X[0:n_train])*1/255\n",
    "X_val = np.array(X[n_train:])*1/255\n",
    "y_train = one_hot(y[0:n_train])\n",
    "y_val = one_hot(y[n_train:])"
   ]
  },
  {
   "cell_type": "code",
   "execution_count": 77,
   "metadata": {},
   "outputs": [
    {
     "data": {
      "text/plain": [
       "array([0, 0, 0, 0, 1, 0, 0, 0, 0, 0])"
      ]
     },
     "execution_count": 77,
     "metadata": {},
     "output_type": "execute_result"
    },
    {
     "data": {
      "image/png": "[encoded data removed]",
      "text/plain": [
       "<Figure size 432x288 with 1 Axes>"
      ]
     },
     "metadata": {
      "needs_background": "light"
     },
     "output_type": "display_data"
    }
   ],
   "source": [
    "plt.imshow(np.array(X_train[4]).reshape(28,28))\n",
    "y_train[4]"
   ]
  },
  {
   "cell_type": "code",
   "execution_count": 79,
   "metadata": {},
   "outputs": [],
   "source": [
    "#initiate the weights and bias\n",
    "def init_params():\n",
    "    w1 = np.random.uniform(-0.5, 0.5, size=(10, 784))\n",
    "    w2 = np.random.uniform(-0.5, 0.5, size=(10, 10))\n",
    "    b1 = np.zeros(10)\n",
    "    b2 = np.zeros(10)\n",
    "    return w1, w2, b1, b2"
   ]
  },
  {
   "cell_type": "code",
   "execution_count": 80,
   "metadata": {},
   "outputs": [],
   "source": [
    "#forward propagation\n",
    "def forward_prop(X, w1, w2, b1, b2):\n",
    "    # input -> hidden\n",
    "    h_net = b1 + w1@X\n",
    "    h = 1/(1+np.exp(-h_net))\n",
    "    # hidden -> output\n",
    "    o_net = b2 + w2@h\n",
    "    o = 1/(1+np.exp(-o_net))\n",
    "    return h, o"
   ]
  },
  {
   "cell_type": "code",
   "execution_count": 81,
   "metadata": {},
   "outputs": [],
   "source": [
    "#calculatin error\n",
    "def error_calc(o, y):\n",
    "    err = 1/len(o)*(o-y)**2\n",
    "    total_err = sum(err)\n",
    "    global n_correct\n",
    "    n_correct += int(np.argmax(o) == np.argmax(y))\n",
    "    return err, total_err, n_correct\n",
    "\n",
    "def error_calc_val(o, y):\n",
    "    err = 1/len(o)*(o-y)**2\n",
    "    total_err = sum(err)\n",
    "    global n_correct_val\n",
    "    n_correct_val += int(np.argmax(o) == np.argmax(y))\n",
    "    return n_correct_val"
   ]
  },
  {
   "cell_type": "code",
   "execution_count": 104,
   "metadata": {},
   "outputs": [],
   "source": [
    "#backpropagation\n",
    "def backward_prop(X, y, o, h, w1,b1, w2, b2):\n",
    "    # output -> hidden\n",
    "    e_tot_o = -(y-o)\n",
    "    out_net_o = o*(1-o)\n",
    "    delta_w2 = e_tot_o*out_net_o\n",
    "\n",
    "    # hidden -> input\n",
    "    e_tot_out_h = np.sum(delta_w2*w2.T, axis=1)\n",
    "    out_net_h = h*(1-h)\n",
    "    delta_w1 = e_tot_out_h*out_net_h\n",
    "\n",
    "    # update\n",
    "    w2 += -alpha*delta_w2.reshape(len(delta_w2),1)*h\n",
    "    b2 += -alpha*delta_w2\n",
    "    w1 += -alpha*delta_w1.reshape(len(delta_w1),1)*X\n",
    "    b1 += -alpha*delta_w1\n",
    "\n",
    "    return w1, w2, b1, b2"
   ]
  },
  {
   "cell_type": "code",
   "execution_count": 105,
   "metadata": {},
   "outputs": [
    {
     "name": "stdout",
     "output_type": "stream",
     "text": [
      "Epoch 1: Train_acc 70.67 %, val_acc 87.51 %\n",
      "Epoch 2: Train_acc 89.16 %, val_acc 89.98 %\n",
      "Epoch 3: Train_acc 90.69 %, val_acc 90.55 %\n",
      "Epoch 4: Train_acc 91.38 %, val_acc 90.89 %\n",
      "Epoch 5: Train_acc 91.76 %, val_acc 91.12 %\n",
      "Epoch 6: Train_acc 92.12 %, val_acc 91.23 %\n",
      "Epoch 7: Train_acc 92.4 %, val_acc 91.4 %\n",
      "Epoch 8: Train_acc 92.54 %, val_acc 91.42 %\n",
      "Epoch 9: Train_acc 92.74 %, val_acc 91.58 %\n",
      "Epoch 10: Train_acc 92.95 %, val_acc 91.65 %\n",
      "Epoch 11: Train_acc 93.1 %, val_acc 91.71 %\n",
      "Epoch 12: Train_acc 93.25 %, val_acc 91.79 %\n",
      "Epoch 13: Train_acc 93.38 %, val_acc 91.87 %\n",
      "Epoch 14: Train_acc 93.45 %, val_acc 91.87 %\n",
      "Epoch 15: Train_acc 93.56 %, val_acc 91.95 %\n"
     ]
    }
   ],
   "source": [
    "#train the model\n",
    "\n",
    "w1, w2, b1, b2 = init_params()\n",
    "alpha = 0.05\n",
    "n_correct = 0\n",
    "n_correct_val = 0\n",
    "val_accuracy = []\n",
    "train_accuracy = []\n",
    "\n",
    "for i in range(15):\n",
    "    for j in range(n_train):\n",
    "        h,o = forward_prop(X_train[j], w1, w2, b1, b2)\n",
    "        err, total_err, n_correct = error_calc(o, y_train[j])\n",
    "        w1, w2, b1, b2  = backward_prop(X_train[j], y_train[j], o, h, w1,b1, w2, b2)\n",
    "\n",
    "    for k in range(n_val):\n",
    "        h_val,o_val = forward_prop(X_val[k], w1, w2, b1, b2)\n",
    "        n_correct_val = error_calc_val(o_val, y_val[k])\n",
    "    if i % 1 == 0:\n",
    "        train_acc = round(n_correct/n_train*100, 2)\n",
    "        val_acc = round(n_correct_val/n_val*100, 2)\n",
    "        print(f'Epoch {i+1}: Train_acc {train_acc} %, val_acc {val_acc} %')\n",
    "    train_accuracy.append(train_acc)\n",
    "    val_accuracy.append(val_acc)\n",
    "    n_correct = 0\n",
    "    n_correct_val = 0"
   ]
  },
  {
   "cell_type": "code",
   "execution_count": 101,
   "metadata": {},
   "outputs": [
    {
     "data": {
      "image/png": "[encoded data removed]",
      "text/plain": [
       "<Figure size 720x432 with 1 Axes>"
      ]
     },
     "metadata": {
      "needs_background": "light"
     },
     "output_type": "display_data"
    }
   ],
   "source": [
    "plt.figure(figsize=(10,6))\n",
    "plt.plot(np.arange(1, 16), train_accuracy)\n",
    "plt.plot(np.arange(1, 16), val_accuracy)\n",
    "plt.legend(['train_accuracy','val_accuracy'])\n",
    "plt.xlabel('epoch');\n",
    "plt.ylabel('accuracy');"
   ]
  },
  {
   "cell_type": "markdown",
   "metadata": {},
   "source": [
    "### Inference"
   ]
  },
  {
   "cell_type": "code",
   "execution_count": 149,
   "metadata": {},
   "outputs": [],
   "source": [
    "inference = np.array(test.sample(frac=0.5).reset_index(drop=True).head(25))"
   ]
  },
  {
   "cell_type": "code",
   "execution_count": 155,
   "metadata": {},
   "outputs": [
    {
     "name": "stderr",
     "output_type": "stream",
     "text": [
      "C:\\Users\\Owner\\AppData\\Local\\Temp\\ipykernel_6496\\122807019.py:4: RuntimeWarning: overflow encountered in exp\n",
      "  h = 1/(1+np.exp(-h_net))\n"
     ]
    },
    {
     "data": {
      "text/plain": [
       "Text(0.5, 0.98, 'Inference and Prediction')"
      ]
     },
     "execution_count": 155,
     "metadata": {},
     "output_type": "execute_result"
    },
    {
     "data": {
      "image/png": "[encoded data removed]",
      "text/plain": [
       "<Figure size 720x864 with 25 Axes>"
      ]
     },
     "metadata": {
      "needs_background": "light"
     },
     "output_type": "display_data"
    }
   ],
   "source": [
    "fig, ax = plt.subplots(5,5, figsize=(10,12))\n",
    "ax = ax.flatten()\n",
    "predict = []\n",
    "for i in range(25):\n",
    "    pred = np.argmax(forward_prop(inference[i], w1, w2, b1, b2)[1]);\n",
    "    ax[i].imshow(np.array(inference[i]).reshape(28,28))\n",
    "    ax[i].axis('off')\n",
    "    ax[i].set_title(pred)\n",
    "    predict.append(pred)\n",
    "fig.suptitle('Inference and Prediction',fontweight =\"bold\")"
   ]
  }
 ],
 "metadata": {
  "interpreter": {
   "hash": "5eb8f9eae98948c5245faf9b7b12899b2e3d974492425df95c3e25d1530a2ae4"
  },
  "kernelspec": {
   "display_name": "Python 3.8.1 64-bit",
   "language": "python",
   "name": "python3"
  },
  "language_info": {
   "codemirror_mode": {
    "name": "ipython",
    "version": 3
   },
   "file_extension": ".py",
   "mimetype": "text/x-python",
   "name": "python",
   "nbconvert_exporter": "python",
   "pygments_lexer": "ipython3",
   "version": "3.8.1"
  },
  "orig_nbformat": 4
 },
 "nbformat": 4,
 "nbformat_minor": 2
}
